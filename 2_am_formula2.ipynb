{
 "cells": [
  {
   "cell_type": "markdown",
   "id": "0a56e68b",
   "metadata": {},
   "source": [
    "# Option 2. Finding distance by focal length"
   ]
  },
  {
   "cell_type": "code",
   "execution_count": 1,
   "id": "b0c5956f",
   "metadata": {
    "tags": []
   },
   "outputs": [],
   "source": [
    "import utils\n",
    "import torch\n",
    "import math\n",
    "import numpy as np \n",
    "from PIL import Image\n",
    "import cv2\n",
    "import os\n",
    "from pathlib import *\n",
    "import shutil\n",
    "import pandas as PD\n",
    "import pillow_heif\n",
    "import matplotlib.pyplot as plt\n",
    "from exif import Image as exif\n",
    "%matplotlib inline\n",
    "PD.options.display.expand_frame_repr = False"
   ]
  },
  {
   "cell_type": "code",
   "execution_count": 2,
   "id": "b7852556",
   "metadata": {
    "tags": []
   },
   "outputs": [
    {
     "name": "stderr",
     "output_type": "stream",
     "text": [
      "YOLOv5  2023-3-13 Python-3.9.7 torch-1.13.1+cu117 CUDA:0 (NVIDIA GeForce GTX 1060 6GB, 6144MiB)\n"
     ]
    },
    {
     "name": "stdout",
     "output_type": "stream",
     "text": [
      "Setup complete  (12 CPUs, 32.0 GB RAM, 764.8/919.6 GB disk)\n",
      "Cuda available? True\n",
      "At which number CUDA: 0\n"
     ]
    }
   ],
   "source": [
    "display = utils.notebook_init() \n",
    "print('Cuda available?', torch.cuda.is_available())\n",
    "print('At which number CUDA:', torch.cuda.current_device())\n",
    "os.environ[\"KMP_DUPLICATE_LIB_OK\"]=\"TRUE\" # without this there will be an error"
   ]
  },
  {
   "attachments": {},
   "cell_type": "markdown",
   "id": "2596e003",
   "metadata": {},
   "source": [
    "## Load an appropriate model"
   ]
  },
  {
   "cell_type": "code",
   "execution_count": 3,
   "id": "f20de670",
   "metadata": {
    "tags": []
   },
   "outputs": [
    {
     "name": "stderr",
     "output_type": "stream",
     "text": [
      "Using cache found in C:\\Users\\Felix/.cache\\torch\\hub\\ultralytics_yolov5_master\n",
      "\u001b[31m\u001b[1mrequirements:\u001b[0m YOLOv5 requirements \"gitpython>=3.1.30\" \"tqdm>=4.64.0\" \"setuptools>=65.5.1\" not found, attempting AutoUpdate...\n",
      "\u001b[31m\u001b[1mrequirements:\u001b[0m  Command 'pip install \"gitpython>=3.1.30\" \"tqdm>=4.64.0\" \"setuptools>=65.5.1\"  ' returned non-zero exit status 1.\n",
      "YOLOv5  2023-3-13 Python-3.9.7 torch-1.13.1+cu117 CUDA:0 (NVIDIA GeForce GTX 1060 6GB, 6144MiB)\n",
      "\n",
      "Fusing layers... \n",
      "Model summary: 212 layers, 20852934 parameters, 0 gradients\n",
      "Adding AutoShape... \n"
     ]
    }
   ],
   "source": [
    "# Load model\n",
    "#model = torch.hub.load('ultralytics/yolov5', 'custom',  path='runs/train/bw/exp4/weights/last.pt') # works, but loads the BEST every time\n",
    "#model = torch.hub.load('/home/jovyan/car-distance-ptod/yolov5', 'custom',  path='runs/train/exp/weights/best.pt') # works, but loads every time\n",
    "model = torch.hub.load('ultralytics/yolov5', 'custom',  path='runs/train/exp/weights/best.pt') # works, but loads every time\n",
    "model2 = model"
   ]
  },
  {
   "attachments": {},
   "cell_type": "markdown",
   "id": "32ae5644",
   "metadata": {},
   "source": [
    "## Utils"
   ]
  },
  {
   "cell_type": "code",
   "execution_count": 6,
   "id": "bcd22760",
   "metadata": {
    "tags": []
   },
   "outputs": [],
   "source": [
    "# Read metadata from images regarding focal length and digitial zoom\n",
    "def get_focus_from_exif(f):\n",
    "    with open(f, \"rb\") as palm_1_file:\n",
    "        palm_1_image = exif(palm_1_file)\n",
    "    if palm_1_image.has_exif:\n",
    "        focal = palm_1_image.get('focal_length_in_35mm_film', 'Unknown')\n",
    "        digital_zoom = palm_1_image.get('digital_zoom_ratio', 'Unknown')  #let's play with the zoom. the zoom starts to change the focal length and it's not needed, but let it be for now.\n",
    "    else:\n",
    "        focal = 0\n",
    "        digital_zoom = 1\n",
    "    \n",
    "    return focal, digital_zoom"
   ]
  },
  {
   "cell_type": "code",
   "execution_count": 4,
   "id": "d9fb8fe6",
   "metadata": {
    "tags": []
   },
   "outputs": [],
   "source": [
    "# The function spins the picture depending on what it finds in the image metadata\n",
    "def exif_transpose(img):\n",
    "    if not img:\n",
    "        return img\n",
    "    wh = img.size\n",
    "    if wh[0] > wh[1]:\n",
    "        return img\n",
    "    exif_orientation_tag = 274\n",
    "\n",
    "    # Check for EXIF data (only present on some files)\n",
    "    if hasattr(img, \"_getexif\") and isinstance(img._getexif(), dict) and exif_orientation_tag in img._getexif():\n",
    "        exif_data = img._getexif()\n",
    "        orientation = exif_data[exif_orientation_tag]\n",
    "\n",
    "        # Handle EXIF Orientation\n",
    "        if orientation == 1:\n",
    "            # Normal image - nothing to do!\n",
    "            pass\n",
    "        elif orientation == 2:\n",
    "            # Mirrored left to right\n",
    "            img = img.transpose(PIL.Image.FLIP_LEFT_RIGHT)\n",
    "        elif orientation == 3:\n",
    "            # Rotated 180 degrees\n",
    "            img = img.rotate(180)\n",
    "        elif orientation == 4:\n",
    "            # Mirrored top to bottom\n",
    "            img = img.rotate(180).transpose(PIL.Image.FLIP_LEFT_RIGHT)\n",
    "        elif orientation == 5:\n",
    "            # Mirrored along top-left diagonal\n",
    "            img = img.rotate(-90, expand=True).transpose(PIL.Image.FLIP_LEFT_RIGHT)\n",
    "        elif orientation == 6:\n",
    "            # Rotated 90 degrees\n",
    "            #print('turned')\n",
    "            img = img.rotate(-90, expand=True)\n",
    "        elif orientation == 7:\n",
    "            # Mirrored along top-right diagonal\n",
    "            img = img.rotate(90, expand=True).transpose(PIL.Image.FLIP_LEFT_RIGHT)\n",
    "        elif orientation == 8:\n",
    "            # Rotated 270 degrees\n",
    "            img = img.rotate(90, expand=True)\n",
    "\n",
    "    return img"
   ]
  },
  {
   "cell_type": "code",
   "execution_count": 7,
   "id": "9dcf5309",
   "metadata": {
    "tags": []
   },
   "outputs": [],
   "source": [
    "# convert heic_to_jpg. inputs the source file and the path to the new file, returns the path to the new file\n",
    "def conv_heic_to_jpg(file, new_name):\n",
    "\n",
    "    heif_file = pillow_heif.read_heif(file)\n",
    "    image = Image.frombytes(\n",
    "        heif_file.mode,\n",
    "        heif_file.size,\n",
    "        heif_file.data,\n",
    "        \"raw\",\n",
    "    )\n",
    "\n",
    "    ex = heif_file.info['exif']\n",
    "    image.save(new_name, format(\"jpeg\"), exif=ex)\n",
    "    image.close()\n",
    "    return new_name"
   ]
  },
  {
   "attachments": {},
   "cell_type": "markdown",
   "id": "dd54d6da",
   "metadata": {},
   "source": [
    "## Refinement methods 1"
   ]
  },
  {
   "cell_type": "code",
   "execution_count": 9,
   "id": "41ae49ad",
   "metadata": {
    "tags": []
   },
   "outputs": [],
   "source": [
    "# procedure cuts out the license plate, just to see what is found there. I needed it for debugging.\n",
    "# input a file, and a dictionary with data about the license plate\n",
    "# WARNING: it will spoil the file it finds.\n",
    "\n",
    "def crop_znak(temp_file,znak):\n",
    "    if len(znak) <= 3:\n",
    "        #print('не смог кроопнуть', temp_file)\n",
    "        return\n",
    "    img = Image.open(temp_file)\n",
    "    xmin  = znak['xmin']\n",
    "    ymin = znak['ymin']\n",
    "    xmax  = znak['xmax']\n",
    "    ymax  = znak['ymax']\n",
    "    сentre_x = xmin + (xmax-xmin)/2\n",
    "    сentre_y = ymin + (ymax-ymin)/2\n",
    "    w_max = max(xmax-xmin, ymax-ymin)/2\n",
    "    #print((xmin, ymin,xmax, ymax))\n",
    "    img = img.crop((сentre_x-w_max, сentre_y-w_max,сentre_x+w_max, сentre_y+w_max))\n",
    "    img = img.resize((640,640))\n",
    "    #print('сохраняем в ',temp_file)\n",
    "    img.save(temp_file)\n",
    "    #считаем коэффициент кроп\n",
    "    k = znak['width']/640\n",
    "    return k"
   ]
  },
  {
   "cell_type": "code",
   "execution_count": 58,
   "id": "c045d8ea",
   "metadata": {},
   "outputs": [],
   "source": [
    "def get_prediction(file, min_confidence):\n",
    "    if '.heic' in file:\n",
    "        temp_file = 'tmp.jpg'  # need a temporary file so as not to spoil the dataset\n",
    "        file = conv_heic_to_jpg(file, temp_file)\n",
    "    \n",
    "    im = Image.open(file)\n",
    "    im_width, im_height = im.size\n",
    "    \n",
    "    # Get prediction from model\n",
    "    results = model(file)\n",
    "    df = results.pandas().xyxy[0]\n",
    "    df = df.loc[df['name'] == 'license_plate'] # filter for class \"license_plate\"\n",
    "    df = df.loc[df['confidence'] >= min_confidence] # filter for confidence\n",
    "\n",
    "    return df, im_width, im_height"
   ]
  },
  {
   "cell_type": "code",
   "execution_count": 70,
   "id": "a6a1e5c7",
   "metadata": {
    "tags": []
   },
   "outputs": [],
   "source": [
    "# THIS FUNCTION SEARCHES THE DISTANCE BETWEEN TWO fixing points on a number and returns it in pixels\n",
    "\n",
    "def res2(file, min_confidence=0.5, show_detections=False):\n",
    "    df, _, _ = get_prediction(file, min_confidence)\n",
    "\n",
    "    if show_detections: print('License plates\\n', df)\n",
    "    \n",
    "    df = df.assign(centre_x = df.xmin + (df.xmax-df.xmin)/2)  #coordinates of the centre\n",
    "    df = df.assign(centre_y = df.ymin + (df.ymax-df.ymin)/2)\n",
    "\n",
    "    df = df.assign(width = df.xmax - df.xmin)  #width\n",
    "    df = df.assign(height = df.ymax - df.ymin) #height\n",
    "    \n",
    "    df = df.loc[df['centre_y'] > 280] # filter \n",
    "    df = df.loc[df['centre_y'] < 380]\n",
    "    \n",
    "    df = df.sort_values(['centre_x']) # we sort by proximity to the centre. We need the closest number\n",
    "    \n",
    "    if show_detections:\n",
    "        print('Sorted table\\n', df)\n",
    "\n",
    "    d = []   # there will be two points in this, we need to find the distance between them\n",
    "    for _, row in df.iterrows():\n",
    "        d.append([row['centre_x'], row['centre_y']])\n",
    "\n",
    "    if len(d) == 2:\n",
    "        r = ((d[0][0] - d[1][0])**2 + (d[0][1] - d[1][1])**2) **0.5\n",
    "    else:\n",
    "        r = 0 # i.e. it doesn't worked\n",
    "         \n",
    "    if show_detections: print('Distance', r)\n",
    "    \n",
    "    return r"
   ]
  },
  {
   "cell_type": "code",
   "execution_count": 71,
   "id": "3a6e04b1",
   "metadata": {},
   "outputs": [
    {
     "name": "stdout",
     "output_type": "stream",
     "text": [
      "License plates\n",
      "           xmin         ymin         xmax         ymax  confidence  class           name\n",
      "0  1838.074097  1483.559326  2078.184326  1542.602661    0.757511      0  license_plate\n",
      "temp1\n",
      "           xmin         ymin         xmax         ymax  confidence  ...           name     centre_x     centre_y       width     height\n",
      "0  1838.074097  1483.559326  2078.184326  1542.602661    0.757511  ...  license_plate  1958.129211  1513.080994  240.110229  59.043335\n",
      "\n",
      "[1 rows x 11 columns]\n",
      "filtered\n",
      " Empty DataFrame\n",
      "Columns: [xmin, ymin, xmax, ymax, confidence, class, name, centre_x, centre_y, width, height]\n",
      "Index: []\n",
      "\n",
      "[0 rows x 11 columns]\n",
      "Sorted table\n",
      " Empty DataFrame\n",
      "Columns: [xmin, ymin, xmax, ymax, confidence, class, name, centre_x, centre_y, width, height]\n",
      "Index: []\n",
      "\n",
      "[0 rows x 11 columns]\n",
      "Distance 0\n"
     ]
    },
    {
     "data": {
      "text/plain": [
       "0"
      ]
     },
     "execution_count": 71,
     "metadata": {},
     "output_type": "execute_result"
    }
   ],
   "source": [
    "# DEBUGGING\n",
    "workfile = \"../datasets/plates/test/img_1715.jpg\"\n",
    "res2(workfile, show_detections=True)"
   ]
  },
  {
   "cell_type": "markdown",
   "id": "29494ddf",
   "metadata": {},
   "source": [
    "## Refinement method 2"
   ]
  },
  {
   "cell_type": "code",
   "execution_count": 48,
   "id": "21a17e2b",
   "metadata": {
    "tags": []
   },
   "outputs": [],
   "source": [
    "# Here we correct the sign: depending on the ratio between the found sides we find the angle and use it to calculate what 520 has become\n",
    "    \n",
    "from math import atan, sin, cos, tan, degrees\n",
    "\n",
    "def correct_znak2(znak):\n",
    "    \n",
    "    w_znak = 529 # the width of the license plate in mm\n",
    "    h_znak = 112\n",
    "    if len(znak) == 3: # no license plate detected\n",
    "        return w_znak\n",
    "    # first look for the angle of inclination of the sign according to the aspect ratio\n",
    "    HW  = 112/520 # standard ratio between the sides\n",
    "    hw = znak['height']/znak['width'] # the ratio found between the sides\n",
    "    tan_alfa = -(HW - hw) / (1 - HW * hw)\n",
    "    alfa_rad = abs(atan(tan_alfa)) #found the angle of the license plate in radians\n",
    "    print('Approximately rotated by', degrees(alfa_rad))\n",
    "    \n",
    "    new_AB = w_znak * cos(alfa_rad) + h_znak * sin(alfa_rad)\n",
    "    #new_w = (CD-AB/tan(alfa_rad)) / (sin(alfa_rad) - cos(alfa_rad)*cos(alfa_rad)/sin(alfa_rad))\n",
    "    \n",
    "    print('character length adjustment','520', '---->', new_AB)\n",
    "    \n",
    "    return new_AB\n",
    "    "
   ]
  },
  {
   "attachments": {},
   "cell_type": "markdown",
   "id": "43be8bce",
   "metadata": {},
   "source": [
    "## Computing distances of test images"
   ]
  },
  {
   "cell_type": "code",
   "execution_count": 51,
   "id": "9555b598",
   "metadata": {
    "tags": []
   },
   "outputs": [],
   "source": [
    "# Recognizing a file and retrieving data from it using a central number\n",
    "def res(file, min_confidence=0.5, show_detections=False):\n",
    "    df, width, height = get_prediction(file, min_confidence)\n",
    "\n",
    "    if show_detections: print('License plates\\n', df)\n",
    "\n",
    "    # Keep only the license plate closest to the center\n",
    "    df = df.assign(to_centre_x = abs(width/2 - (df.xmin + (df.xmax-df.xmin)/2)))  #consider the distance to the center\n",
    "    df = df.assign(centre_x = df.xmin + (df.xmax-df.xmin)/2)                      #we calculate the coordinates of the center \n",
    "    \n",
    "    df = df.assign(width = df.xmax - df.xmin)                                     #width\n",
    "    df = df.assign(height = df.ymax - df.ymin)                                    #height\n",
    "    df = df.assign(s2 = df.width * df.height)                                     #area\n",
    "    \n",
    "    df = df.sort_values(['to_centre_x'] )                                         #we sort by proximity to the center. We need the closest number\n",
    "\n",
    "    # Dictionary with all results\n",
    "    d = dict()\n",
    "    for _, row in df.iterrows():\n",
    "        d ['width']  = row['width']\n",
    "        d ['height']  = row['height']\n",
    "        d ['s2']  = row['s2']\n",
    "        d ['xmin']  = row['xmin']\n",
    "        d ['ymin']  = row['ymin']\n",
    "        d ['xmax']  = row['xmax']\n",
    "        d ['ymax']  = row['ymax']\n",
    "        break\n",
    "    # Now in d are all the characteristics of the most centered license plate\n",
    "    \n",
    "    d['im_width'] = width\n",
    "    d['im_height'] = height\n",
    "    \n",
    "    return d    "
   ]
  },
  {
   "cell_type": "code",
   "execution_count": 41,
   "id": "75d00a20",
   "metadata": {},
   "outputs": [
    {
     "name": "stdout",
     "output_type": "stream",
     "text": [
      "          xmin         ymin         xmax         ymax  confidence  ...  to_centre_x     centre_x       width     height            s2\n",
      "1  1796.028442  1475.401367  2027.170776  1532.003906    0.674215  ...   104.400391  1911.599609  231.142334  56.602539  13083.242988\n",
      "0   130.594742  1717.014038   428.832123  1788.838501    0.742347  ...  1736.286568   279.713432  298.237381  71.824463  21420.739703\n",
      "\n",
      "[2 rows x 12 columns]\n"
     ]
    },
    {
     "data": {
      "text/plain": [
       "{'width': 231.142333984375,\n",
       " 'height': 56.6025390625,\n",
       " 's2': 13083.242988348007,\n",
       " 'xmin': 1796.0284423828125,\n",
       " 'ymin': 1475.4013671875,\n",
       " 'xmax': 2027.1707763671875,\n",
       " 'ymax': 1532.00390625,\n",
       " 'im_width': 4032,\n",
       " 'im_height': 3024}"
      ]
     },
     "execution_count": 41,
     "metadata": {},
     "output_type": "execute_result"
    }
   ],
   "source": [
    "# DEBUGGING\n",
    "workfile = \"../datasets/plates/test/img_1690.jpg\"\n",
    "res(workfile)"
   ]
  },
  {
   "cell_type": "code",
   "execution_count": 53,
   "id": "e4178282",
   "metadata": {
    "tags": []
   },
   "outputs": [],
   "source": [
    "def file_recognition(f):\n",
    "    w_znak = 520 #the width of the license plate in mm\n",
    "    #w = 4032    #sensor/photo resolution in pixels\n",
    "    \n",
    "    name = f[f.rfind('/')+1:]\n",
    "    work_file = f\n",
    "    temp_file = 'temp.jpg'\n",
    "    #temp_file = 'Y:/'+name\n",
    "    \n",
    "    if '.heic' in f:\n",
    "        temp_file = 'Y:/'+name.replace('.heic','.jpg')\n",
    "        print('New name',temp_file)\n",
    "        work_file = conv_heic_to_jpg(work_file,temp_file)\n",
    "        #print('Converted to',work_file)\n",
    "\n",
    "    focus, digital_zoom = get_focus_from_exif(work_file)\n",
    "    print('focus, digital_zoom', focus, digital_zoom)\n",
    "     \n",
    "    img = Image.open(work_file)\n",
    "    img = exif_transpose(img)\n",
    "    w,h = img.size\n",
    "    img.save(temp_file)\n",
    "    \n",
    "    img.close()\n",
    "    \n",
    "    znak1 = res(temp_file, min_confidence=0.5, show_detections=False)\n",
    "    znak = znak1\n",
    "    \n",
    "#     # Zoom in one more time if you don't find anything. just for luck\n",
    "#     if len(znak) <= 3:\n",
    "#         zoom960(temp_file)\n",
    "#         znak1 = res(temp_file)\n",
    "#         znak = znak1\n",
    "        \n",
    "    \n",
    "    \n",
    "    #EXPERIMENT\n",
    "#     if len(znak1) <= 3:\n",
    "#         print('ФАЙЛ НЕ РАСПОЗНАН', f)\n",
    "#         not_recognize.append(f) \n",
    "#         return 0.0\n",
    "    \n",
    "#     #пробуем вырезать область,чтобы знак был бллиже. количество пикселей от этого не меняется\n",
    "#     print('ширина до мини пика', znak1['width'])\n",
    "\n",
    "#     mini_pic(temp_file,znak1)\n",
    "#     #вырезали и еще раз на распознавание\n",
    "#     znak = res(temp_file)\n",
    "#     if len(znak) != 3:\n",
    "#         print('ширина после мини пика', znak['width'], 'уточнение', znak1['width']-znak['width'])\n",
    "#     else: #почему то после зума, знак не распознался. Возвращаем то, что было, это всяко лучше чем ноль\n",
    "#         znak = znak1\n",
    "        \n",
    "    #....конец эксперимента.\n",
    "    \n",
    "    \n",
    "    w_matrix = 35 # 34.974 #is the width of the matrix in mm. This seems to be the classic width, but it is colloquially rounded up to 35 mm.\n",
    "    #print('frame width',w)\n",
    "    pixel_in_mm = w/w_matrix\n",
    "\n",
    "    # REFINEMENT METHOD 1\n",
    "    if 'width' in znak: # FIXME WHAT IS THIS GOOD FOR\n",
    "        k = crop_znak(temp_file,znak)  #cropping ratio\n",
    "        r = res2(temp_file) # got the distance between the two points on the number \n",
    "        print('r, k', r * k, znak['width'])\n",
    "        if r != 0:\n",
    "            r = r * k # resulted in a normal width\n",
    "            #print(r)\n",
    "            d1 = (1 + 487 / (r/pixel_in_mm)) * focus/1000\n",
    "            print('point-to-point distance', d1)\n",
    "            return d1 # if there is distance between points, it is advantageous\n",
    "    \n",
    "    print(znak)\n",
    "    if len(znak) <= 3:\n",
    "        print('A! NO LICENSE PLATE DETECTED', f)\n",
    "        #not_recognized.append(f)\n",
    "        d = 0.0\n",
    "    \n",
    "    # REFINEMENT METHOD 2\n",
    "    else:\n",
    "        w_znak = correct_znak2(znak)\n",
    "        d = (1 + w_znak /(znak['width']/pixel_in_mm))* focus/1000  #I couldn't decide whether to count to the optical centre or to the sensor. I decided to count to the sensor. The lens can move away from the sensor by many centimetres.\n",
    "    \n",
    "    return d"
   ]
  },
  {
   "cell_type": "code",
   "execution_count": 23,
   "id": "1abc9ee7",
   "metadata": {},
   "outputs": [
    {
     "name": "stdout",
     "output_type": "stream",
     "text": [
      "focus, digital_zoom 0 1\n",
      "{'im_width': 4032, 'im_height': 3024}\n",
      "A! FILE NOT RECOGNISED ../datasets/plates/test/img_1628.jpg\n"
     ]
    },
    {
     "data": {
      "text/plain": [
       "0.0"
      ]
     },
     "execution_count": 23,
     "metadata": {},
     "output_type": "execute_result"
    }
   ],
   "source": [
    "# DEBUGGING\n",
    "workfile = \"../datasets/plates/test/img_1628.jpg\"\n",
    "\n",
    "file_recognition(workfile)"
   ]
  },
  {
   "cell_type": "code",
   "execution_count": 52,
   "id": "6210b18f",
   "metadata": {
    "tags": []
   },
   "outputs": [
    {
     "name": "stdout",
     "output_type": "stream",
     "text": [
      "1 working with the file:  ../datasets/plates/test/img_1628.jpg\n",
      "focus, digital_zoom 18 1.3795620437956204\n",
      "{'im_width': 4032, 'im_height': 3024}\n",
      "A! NO LICENSE PLATE DETECTED ../datasets/plates/test/img_1628.jpg\n",
      "Error 1.0 true distance 1.12 prediction 0.0\n",
      "Recorded result:  img_1628.jpg;0.0\n",
      "\n",
      "\n",
      "\n",
      "2 working with the file:  ../datasets/plates/test/img_1690.jpg\n",
      "focus, digital_zoom 16 1.237315875613748\n",
      "сохраняем в  temp.jpg\n",
      "r,k 0.0 231.1754150390625\n",
      "{'width': 231.1754150390625, 'height': 56.4276123046875, 's2': 13044.676694199443, 'xmin': 1795.8594970703125, 'ymin': 1475.58349609375, 'xmax': 2027.034912109375, 'ymax': 1532.0111083984375, 'im_width': 4032, 'im_height': 3024}\n",
      "Approximately rotated by 1.735433024586337\n",
      "character length adjustment 520 ----> 532.1492112876026\n",
      "Error 0.009554862273147552 true distance 4.3 prediction 4.258914092225465\n",
      "Recorded result:  img_1690.jpg;4.258914092225465\n",
      "\n",
      "\n",
      "\n",
      "3 working with the file:  ../datasets/plates/test/img_1715.jpg\n",
      "focus, digital_zoom 16 1.237315875613748\n",
      "сохраняем в  temp.jpg\n",
      "r,k 0.0 240.2718505859375\n",
      "{'width': 240.2718505859375, 'height': 59.0325927734375, 's2': 14183.870310559869, 'xmin': 1838.1483154296875, 'ymin': 1483.5078125, 'xmax': 2078.420166015625, 'ymax': 1542.5404052734375, 'im_width': 4032, 'im_height': 3024}\n",
      "Approximately rotated by 1.832815414956875\n",
      "character length adjustment 520 ----> 532.3114862797692\n",
      "Error 0.046621683751444945 true distance 4.3 prediction 4.099526759868787\n",
      "Recorded result:  img_1715.jpg;4.099526759868787\n",
      "\n",
      "\n",
      "\n",
      "Nr of files not detected: 1\n",
      "unrecognized: ../datasets/plates/test/img_1628.jpg\n",
      "saved in: ../data_set/custom_solution_v1.csv\n",
      "Аbsolute error 35.20588\n",
      "Relative error 35.20588\n"
     ]
    }
   ],
   "source": [
    "train_csv = '../data_set/train.csv'  #data set if you run it on a training dataset, it will be considered an error.\n",
    "keys = ['width', 'height', 's2', 'xmin', 'ymin', 'xmax', 'ymax','im_width', 'im_height']\n",
    "pic_data = '../datasets/plates/train'  # here is the dataset\n",
    "pic_data_test  = pic_data\n",
    "\n",
    "# TO RUN ON YOUR DATASET, YOU NEED TO CHANGE THIS PATH\n",
    "pic_data_test = '../datasets/plates/test'  # Here is the test dataset\n",
    "\n",
    "test = '../data_set/custom_solution_v1.csv'  # the result will be recorded here\n",
    "\n",
    "# first read all the distances given to us from the training dataset\n",
    "dist = dict()  # here we will store all distances extracted from the file. In the form of a dictionary\n",
    "with open(train_csv, 'r', encoding='utf-8') as file:\n",
    "    for line in file:\n",
    "        line = line.replace('\\n','')\n",
    "        key, d = line.split(';')\n",
    "        dist[key] = d\n",
    "        \n",
    "    \n",
    "\n",
    "new_f = 'image_name;distance'\n",
    "not_recognized = []  # there will be some unrecognized\n",
    "n = 0\n",
    "abs_mistake, otn_mistake, vsego = 0, 0, 0  # To calculate the error\n",
    "\n",
    "test_images = os.listdir(pic_data_test)\n",
    "test_images = [img for img in test_images if img.endswith(\".jpg\")]\n",
    "\n",
    "\n",
    "# Iterate through all test images\n",
    "for f in test_images:\n",
    "    n += 1\n",
    "#    if n<= 380:\n",
    "#        continue\n",
    "#    if n>385:\n",
    "#         break\n",
    "    \n",
    "    \n",
    "    #work_file = os.path.join(pic_data_test, f) # FIXME uncomment!\n",
    "    work_file = pic_data_test + \"/\" + f\n",
    "    print(n, 'working with the file: ', work_file)\n",
    "\n",
    "    # Here the magic happens, get prediction\n",
    "    itog = file_recognition(work_file)\n",
    "    if itog == 0:\n",
    "        not_recognized.append(work_file)\n",
    "    \n",
    "    # we get the true value, count the error\n",
    "    if f in dist:\n",
    "        y = float(dist[f])\n",
    "        mistake = (y - itog) / y # I apologize for not using your mistake, but it makes more sense to me in percentages, and since I don't train on a mistake, I did so.\n",
    "        print('Error', mistake, 'true distance', y, 'prediction', itog)\n",
    "        otn_mistake += mistake  #you need it to see if it goes in the plus or minus\n",
    "        abs_mistake += abs(mistake)\n",
    "        vsego += 1\n",
    "    \n",
    "    \n",
    "    st = f + ';' + str(itog)\n",
    "    print('Recorded result: ', st)\n",
    "    print('\\n\\n')    \n",
    "    new_f = new_f +'\\n'+st\n",
    "    \n",
    "# Save predictions in csv file\n",
    "with open(test, 'w', encoding = 'utf-8') as file:\n",
    "    file.write(new_f)\n",
    "print('Nr of files not detected:', len(not_recognized))\n",
    "print('unrecognized:', *not_recognized)\n",
    "print('saved in:', test)\n",
    "if vsego != 0:\n",
    "    print('Аbsolute error', round(abs_mistake/vsego*100, 5))\n",
    "    print('Relative error', round(otn_mistake/vsego*100, 5))\n",
    "else:\n",
    "    print('No error has been calculated. No true data detected. Is the dataset a test one?')"
   ]
  },
  {
   "attachments": {},
   "cell_type": "markdown",
   "id": "f81c662d",
   "metadata": {},
   "source": [
    "## Experiments"
   ]
  },
  {
   "cell_type": "code",
   "execution_count": 10,
   "id": "8721cb43",
   "metadata": {
    "tags": []
   },
   "outputs": [],
   "source": [
    "# EXPERIMENTAL UTILS\n",
    "# Cut out the area around the sign to feed it back into the network for more accurate recognition. \n",
    "def mini_pic(temp_file,znak):\n",
    "    if len(znak) == 3:\n",
    "        print('не смог кроопнуть', temp_file)\n",
    "        return\n",
    "    if znak['width'] > 400: # only if the sign is very small\n",
    "        return\n",
    "    \n",
    "    img = Image.open(temp_file)\n",
    "    xmin  = znak['xmin']\n",
    "    ymin = znak['ymin']\n",
    "    xmax  = znak['xmax']\n",
    "    ymax  = znak['ymax']\n",
    "    centre_x = xmin + (xmax - xmin)/2\n",
    "    centre_y = ymin + (ymax - ymin)/2\n",
    "    #print((xmin, ymin,xmax, ymax))\n",
    "    img = img.crop((centre_x-480, centre_y - 480,centre_x+480, centre_y + 480))\n",
    "    img.save(temp_file)\n",
    "    #print('минипик',temp_file,centre_x,centre_y, znak['width'])\n",
    "    \n",
    "# try to cut out the area around the sign to feed it back to the network for more accurate recognition.  \n",
    "# This is if the sign in the photo is small and it did not find anything at all. do a cropped center 960x960\n",
    "def zoom960(temp_file):\n",
    "    \n",
    "    img = Image.open(temp_file)\n",
    "    w,h = img.size\n",
    "    centre_x = w//2\n",
    "    centre_y = h//2\n",
    "    img = img.crop((centre_x-480, centre_y - 480,centre_x+480, centre_y + 480))\n",
    "    img.save(temp_file)\n",
    " "
   ]
  },
  {
   "cell_type": "code",
   "execution_count": 56,
   "id": "47601b63",
   "metadata": {},
   "outputs": [
    {
     "name": "stdout",
     "output_type": "stream",
     "text": [
      "Знаки\n",
      "           xmin         ymin         xmax         ymax  confidence  class  name\n",
      "0  1760.632202  1313.192139  2381.237305  1438.997437    0.952805      0  znak\n"
     ]
    },
    {
     "data": {
      "text/plain": [
       "{'width': 620.6051025390625,\n",
       " 'height': 125.8052978515625,\n",
       " 's2': 78075.40977312624,\n",
       " 'xmin': 1760.6322021484375,\n",
       " 'ymin': 1313.192138671875,\n",
       " 'xmax': 2381.2373046875,\n",
       " 'ymax': 1438.9974365234375,\n",
       " 'im_width': 3968,\n",
       " 'im_height': 2976}"
      ]
     },
     "execution_count": 56,
     "metadata": {},
     "output_type": "execute_result"
    }
   ],
   "source": [
    "res('Y:\\\\255_1.jpg',1)"
   ]
  },
  {
   "cell_type": "code",
   "execution_count": 166,
   "id": "2b62a3a0",
   "metadata": {},
   "outputs": [
    {
     "name": "stdout",
     "output_type": "stream",
     "text": [
      "Новое имя Y:\\img_2674.jpg\n",
      "focus, digital_zoom 14 1.0327868852459017\n",
      "ФАЙЛ НЕ РАСПОЗНАН ..\\data_set\\test\\img_2674.heic\n"
     ]
    },
    {
     "data": {
      "text/plain": [
       "0.0"
      ]
     },
     "execution_count": 166,
     "metadata": {},
     "output_type": "execute_result"
    }
   ],
   "source": [
    "file_recognition('..\\\\data_set\\\\test\\\\img_2674.heic')"
   ]
  },
  {
   "cell_type": "code",
   "execution_count": 161,
   "id": "7b99d5b2",
   "metadata": {},
   "outputs": [
    {
     "name": "stdout",
     "output_type": "stream",
     "text": [
      "focus, digital_zoom 27 1.0\n",
      "сохраняем в  temp.jpg\n",
      "r,k 592.7320572254057 619.9266357421875\n",
      "расстояние по точкам 2.5419996463221812\n",
      "2.5419996463221812\n",
      "\n",
      "\n",
      "focus, digital_zoom 31 1.0\n",
      "сохраняем в  temp.jpg\n",
      "r,k 718.0005061784991 743.150390625\n",
      "расстояние по точкам 2.414798399046464\n",
      "2.414798399046464\n",
      "\n",
      "\n",
      "focus, digital_zoom 52 1.0\n",
      "сохраняем в  temp.jpg\n",
      "r,k 1166.430252539312 1251.6114501953125\n",
      "расстояние по точкам 2.513371394382705\n",
      "2.513371394382705\n",
      "\n",
      "\n"
     ]
    }
   ],
   "source": [
    "print(file_recognition('Y:\\\\255_1.jpg'))\n",
    "\n",
    "print('\\n')\n",
    "print(file_recognition('Y:\\\\255_2.jpg'))\n",
    "\n",
    "\n",
    "print('\\n')\n",
    "\n",
    "print(file_recognition('Y:\\\\255_3.jpg'))\n",
    "\n",
    "\n",
    "print('\\n')"
   ]
  },
  {
   "cell_type": "code",
   "execution_count": 160,
   "id": "a599ca39",
   "metadata": {},
   "outputs": [
    {
     "ename": "FileNotFoundError",
     "evalue": "[Errno 2] No such file or directory: 'Y:\\\\421_1.jpg'",
     "output_type": "error",
     "traceback": [
      "\u001b[1;31m---------------------------------------------------------------------------\u001b[0m",
      "\u001b[1;31mFileNotFoundError\u001b[0m                         Traceback (most recent call last)",
      "Input \u001b[1;32mIn [160]\u001b[0m, in \u001b[0;36m<cell line: 1>\u001b[1;34m()\u001b[0m\n\u001b[1;32m----> 1\u001b[0m \u001b[38;5;28mprint\u001b[39m(\u001b[43mfile_recognition\u001b[49m\u001b[43m(\u001b[49m\u001b[38;5;124;43m'\u001b[39;49m\u001b[38;5;124;43mY:\u001b[39;49m\u001b[38;5;130;43;01m\\\\\u001b[39;49;00m\u001b[38;5;124;43m421_1.jpg\u001b[39;49m\u001b[38;5;124;43m'\u001b[39;49m\u001b[43m)\u001b[49m)\n\u001b[0;32m      2\u001b[0m \u001b[38;5;28mprint\u001b[39m(\u001b[38;5;124m'\u001b[39m\u001b[38;5;130;01m\\n\u001b[39;00m\u001b[38;5;124m'\u001b[39m)\n\u001b[0;32m      3\u001b[0m \u001b[38;5;28mprint\u001b[39m(file_recognition(\u001b[38;5;124m'\u001b[39m\u001b[38;5;124mY:\u001b[39m\u001b[38;5;130;01m\\\\\u001b[39;00m\u001b[38;5;124m421_2.jpg\u001b[39m\u001b[38;5;124m'\u001b[39m))\n",
      "Input \u001b[1;32mIn [154]\u001b[0m, in \u001b[0;36mfile_recognition\u001b[1;34m(f)\u001b[0m\n\u001b[0;32m     12\u001b[0m     work_file \u001b[38;5;241m=\u001b[39m conv_heic_to_jpg(work_file,temp_file)\n\u001b[0;32m     13\u001b[0m     \u001b[38;5;66;03m#print('Сконвертирован в',work_file)\u001b[39;00m\n\u001b[1;32m---> 14\u001b[0m focus, digital_zoom \u001b[38;5;241m=\u001b[39m \u001b[43mget_focus_from_exif\u001b[49m\u001b[43m(\u001b[49m\u001b[43mwork_file\u001b[49m\u001b[43m)\u001b[49m\n\u001b[0;32m     15\u001b[0m \u001b[38;5;28mprint\u001b[39m(\u001b[38;5;124m'\u001b[39m\u001b[38;5;124mfocus, digital_zoom\u001b[39m\u001b[38;5;124m'\u001b[39m,focus, digital_zoom)\n\u001b[0;32m     17\u001b[0m img \u001b[38;5;241m=\u001b[39m Image\u001b[38;5;241m.\u001b[39mopen(work_file)\n",
      "Input \u001b[1;32mIn [6]\u001b[0m, in \u001b[0;36mget_focus_from_exif\u001b[1;34m(f)\u001b[0m\n\u001b[0;32m      2\u001b[0m \u001b[38;5;28;01mdef\u001b[39;00m  \u001b[38;5;21mget_focus_from_exif\u001b[39m(f):\n\u001b[1;32m----> 3\u001b[0m     \u001b[38;5;28;01mwith\u001b[39;00m \u001b[38;5;28;43mopen\u001b[39;49m\u001b[43m(\u001b[49m\u001b[43mf\u001b[49m\u001b[43m,\u001b[49m\u001b[43m \u001b[49m\u001b[38;5;124;43m\"\u001b[39;49m\u001b[38;5;124;43mrb\u001b[39;49m\u001b[38;5;124;43m\"\u001b[39;49m\u001b[43m)\u001b[49m \u001b[38;5;28;01mas\u001b[39;00m palm_1_file:\n\u001b[0;32m      4\u001b[0m         palm_1_image \u001b[38;5;241m=\u001b[39m exif(palm_1_file)\n\u001b[0;32m      5\u001b[0m     \u001b[38;5;28;01mif\u001b[39;00m palm_1_image\u001b[38;5;241m.\u001b[39mhas_exif:\n",
      "\u001b[1;31mFileNotFoundError\u001b[0m: [Errno 2] No such file or directory: 'Y:\\\\421_1.jpg'"
     ]
    }
   ],
   "source": [
    "print(file_recognition('Y:\\\\421_1.jpg'))\n",
    "print('\\n')\n",
    "print(file_recognition('Y:\\\\421_2.jpg'))\n",
    "print('\\n')\n",
    "\n",
    "print(file_recognition('Y:\\\\421_3.jpg'))\n",
    "print('\\n')"
   ]
  },
  {
   "cell_type": "code",
   "execution_count": 91,
   "id": "752fc870",
   "metadata": {},
   "outputs": [
    {
     "name": "stdout",
     "output_type": "stream",
     "text": [
      "4.923146672370446\n",
      "\n",
      "\n",
      "4.690990338609638\n",
      "\n",
      "\n",
      "4.974977451052313\n",
      "\n",
      "\n"
     ]
    }
   ],
   "source": [
    "print(file_recognition('Y:\\\\490_1.jpg'))\n",
    "print('\\n')\n",
    "print(file_recognition('Y:\\\\490_2.jpg'))\n",
    "print('\\n')\n",
    "\n",
    "print(file_recognition('Y:\\\\490_3.jpg'))\n",
    "print('\\n')"
   ]
  }
 ],
 "metadata": {
  "kernelspec": {
   "display_name": "Python 3 (ipykernel)",
   "language": "python",
   "name": "python3"
  },
  "language_info": {
   "codemirror_mode": {
    "name": "ipython",
    "version": 3
   },
   "file_extension": ".py",
   "mimetype": "text/x-python",
   "name": "python",
   "nbconvert_exporter": "python",
   "pygments_lexer": "ipython3",
   "version": "3.9.7"
  }
 },
 "nbformat": 4,
 "nbformat_minor": 5
}
